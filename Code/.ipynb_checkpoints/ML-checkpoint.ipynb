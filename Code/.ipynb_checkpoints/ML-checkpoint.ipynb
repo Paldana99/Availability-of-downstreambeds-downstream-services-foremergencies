{
 "cells": [
  {
   "cell_type": "code",
   "execution_count": 2,
   "metadata": {},
   "outputs": [],
   "source": [
    "import pandas as pd\n",
    "import numpy as np\n",
    "\n",
    "import func\n",
    "\n",
    "from sklearn.model_selection import train_test_split\n",
    "from sklearn.ensemble import RandomForestClassifier\n",
    "from sklearn.linear_model import LogisticRegression\n",
    "from sklearn.preprocessing import normalize\n",
    "\n",
    "from lifelines import LogLogisticAFTFitter\n",
    "from lifelines import LogNormalAFTFitter\n",
    "from lifelines import CoxPHFitter, WeibullAFTFitter, WeibullFitter\n",
    "from lifelines.calibration import survival_probability_calibration\n",
    "\n",
    "from sklearn.metrics import roc_curve, roc_auc_score\n",
    "import matplotlib.pyplot as plt\n",
    "\n",
    "import pickle"
   ]
  },
  {
   "cell_type": "code",
   "execution_count": 2,
   "metadata": {},
   "outputs": [],
   "source": [
    "def ROC_AUC(y_test, prediction_RF, prediction_NN, prediction_LR, stay_codes):\n",
    "    RF = list()\n",
    "    NN = list()\n",
    "    LR = list()\n",
    "    for i in range(0, 11):\n",
    "        y_exp = ((y_test.to_numpy()) == i)\n",
    "        \n",
    "        y_RF = prediction_RF[:,i]\n",
    "        y_NN = prediction_NN[:,i]\n",
    "        y_LR = prediction_LR[:,i]\n",
    "        \n",
    "        false_positive_rateRF, true_positive_rateRF, thresholdRF = roc_curve(y_exp, y_RF)\n",
    "        false_positive_rateNN, true_positive_rateNN, thresholdNN = roc_curve(y_exp, y_NN)\n",
    "        false_positive_rateLR, true_positive_rateLR, thresholdLR = roc_curve(y_exp, y_LR)\n",
    "        \n",
    "        \n",
    "        plt.subplots(1, figsize=(10,10))\n",
    "        plt.title('Receiver Operating Characteristic - for class: ' + stay_codes[i])\n",
    "        lineRF, = plt.plot(false_positive_rateRF, true_positive_rateRF)\n",
    "        lineNN, = plt.plot(false_positive_rateNN, true_positive_rateNN)\n",
    "        lineLR, = plt.plot(false_positive_rateLR, true_positive_rateLR)\n",
    "        \n",
    "        lineRF.set_label('RandomForest')\n",
    "        lineNN.set_label('NeuralNetwork')\n",
    "        lineLR.set_label('LogisticRegression')\n",
    "        \n",
    "        plt.plot([0, 1], ls=\"--\")\n",
    "        plt.plot([0, 0], [1, 0] , c=\".7\"), plt.plot([1, 1] , c=\".7\")\n",
    "        plt.ylabel('True Positive Rate')\n",
    "        plt.xlabel('False Positive Rate')\n",
    "        plt.legend()\n",
    "#         plt.show()\n",
    "        plt.savefig('ROC/class' + str(i))\n",
    "        \n",
    "        aucRF = roc_auc_score(y_exp, y_RF)\n",
    "        aucNN = roc_auc_score(y_exp, y_NN)\n",
    "        aucLR = roc_auc_score(y_exp, y_LR)\n",
    "        print('AUC score: ')\n",
    "        print('RandomForest:      ' , aucRF)\n",
    "        print('NeuralNetwork:     ' , aucNN)\n",
    "        print('LogisticRegression:' , aucLR)\n",
    "        \n",
    "        RF.append(aucRF)\n",
    "        NN.append(aucNN)\n",
    "        LR.append(aucLR)\n",
    "    print('\\nMoyenne de AUC score:')\n",
    "    print('RF:' , np.mean(RF))\n",
    "    print('NN:' , np.mean(NN))\n",
    "    print('LR:' , np.mean(LR))\n",
    "    return"
   ]
  },
  {
   "cell_type": "code",
   "execution_count": 3,
   "metadata": {},
   "outputs": [],
   "source": [
    "with open('categories_code.pkl', 'rb') as file:\n",
    "    categories_code = pickle.load(file)"
   ]
  },
  {
   "cell_type": "code",
   "execution_count": 9,
   "metadata": {},
   "outputs": [
    {
     "data": {
      "text/html": [
       "<div>\n",
       "<style scoped>\n",
       "    .dataframe tbody tr th:only-of-type {\n",
       "        vertical-align: middle;\n",
       "    }\n",
       "\n",
       "    .dataframe tbody tr th {\n",
       "        vertical-align: top;\n",
       "    }\n",
       "\n",
       "    .dataframe thead th {\n",
       "        text-align: right;\n",
       "    }\n",
       "</style>\n",
       "<table border=\"1\" class=\"dataframe\">\n",
       "  <thead>\n",
       "    <tr style=\"text-align: right;\">\n",
       "      <th></th>\n",
       "      <th>case_id</th>\n",
       "      <th>Available Extra Rooms in Hospital</th>\n",
       "      <th>Bed Grade</th>\n",
       "      <th>patientid</th>\n",
       "      <th>Visitors with Patient</th>\n",
       "      <th>Admission_Deposit</th>\n",
       "      <th>n_day_stay</th>\n",
       "      <th>Ward_Type_code</th>\n",
       "      <th>Ward_Facility_Code_code</th>\n",
       "      <th>Department_code</th>\n",
       "      <th>Severity_of_Illness_code</th>\n",
       "      <th>Type_of_Admission_code</th>\n",
       "      <th>Age_code</th>\n",
       "      <th>n_visit</th>\n",
       "      <th>Stay_code</th>\n",
       "    </tr>\n",
       "  </thead>\n",
       "  <tbody>\n",
       "    <tr>\n",
       "      <th>count</th>\n",
       "      <td>318325.000000</td>\n",
       "      <td>318325.000000</td>\n",
       "      <td>318325.000000</td>\n",
       "      <td>318325.000000</td>\n",
       "      <td>318325.000000</td>\n",
       "      <td>318325.000000</td>\n",
       "      <td>318325.000000</td>\n",
       "      <td>318325.000000</td>\n",
       "      <td>318325.000000</td>\n",
       "      <td>318325.000000</td>\n",
       "      <td>318325.000000</td>\n",
       "      <td>318325.000000</td>\n",
       "      <td>318325.000000</td>\n",
       "      <td>318325.000000</td>\n",
       "      <td>318325.000000</td>\n",
       "    </tr>\n",
       "    <tr>\n",
       "      <th>mean</th>\n",
       "      <td>159221.359369</td>\n",
       "      <td>3.197509</td>\n",
       "      <td>2.625807</td>\n",
       "      <td>65748.181962</td>\n",
       "      <td>3.284153</td>\n",
       "      <td>4880.857705</td>\n",
       "      <td>33.380752</td>\n",
       "      <td>1.888658</td>\n",
       "      <td>3.286314</td>\n",
       "      <td>1.943746</td>\n",
       "      <td>1.374180</td>\n",
       "      <td>0.782854</td>\n",
       "      <td>4.127841</td>\n",
       "      <td>2.033510</td>\n",
       "      <td>2.698425</td>\n",
       "    </tr>\n",
       "    <tr>\n",
       "      <th>std</th>\n",
       "      <td>91932.122176</td>\n",
       "      <td>1.168208</td>\n",
       "      <td>0.873146</td>\n",
       "      <td>37980.537188</td>\n",
       "      <td>1.764190</td>\n",
       "      <td>1086.848051</td>\n",
       "      <td>25.807159</td>\n",
       "      <td>0.804732</td>\n",
       "      <td>1.688042</td>\n",
       "      <td>0.561287</td>\n",
       "      <td>0.768308</td>\n",
       "      <td>0.689000</td>\n",
       "      <td>1.889657</td>\n",
       "      <td>2.275032</td>\n",
       "      <td>2.150118</td>\n",
       "    </tr>\n",
       "    <tr>\n",
       "      <th>min</th>\n",
       "      <td>1.000000</td>\n",
       "      <td>0.000000</td>\n",
       "      <td>1.000000</td>\n",
       "      <td>1.000000</td>\n",
       "      <td>0.000000</td>\n",
       "      <td>1800.000000</td>\n",
       "      <td>0.000000</td>\n",
       "      <td>0.000000</td>\n",
       "      <td>0.000000</td>\n",
       "      <td>0.000000</td>\n",
       "      <td>0.000000</td>\n",
       "      <td>0.000000</td>\n",
       "      <td>0.000000</td>\n",
       "      <td>0.000000</td>\n",
       "      <td>0.000000</td>\n",
       "    </tr>\n",
       "    <tr>\n",
       "      <th>25%</th>\n",
       "      <td>79601.000000</td>\n",
       "      <td>2.000000</td>\n",
       "      <td>2.000000</td>\n",
       "      <td>32847.000000</td>\n",
       "      <td>2.000000</td>\n",
       "      <td>4186.000000</td>\n",
       "      <td>18.000000</td>\n",
       "      <td>1.000000</td>\n",
       "      <td>2.000000</td>\n",
       "      <td>2.000000</td>\n",
       "      <td>1.000000</td>\n",
       "      <td>0.000000</td>\n",
       "      <td>3.000000</td>\n",
       "      <td>0.000000</td>\n",
       "      <td>1.000000</td>\n",
       "    </tr>\n",
       "    <tr>\n",
       "      <th>50%</th>\n",
       "      <td>159222.000000</td>\n",
       "      <td>3.000000</td>\n",
       "      <td>3.000000</td>\n",
       "      <td>65726.000000</td>\n",
       "      <td>3.000000</td>\n",
       "      <td>4741.000000</td>\n",
       "      <td>27.000000</td>\n",
       "      <td>2.000000</td>\n",
       "      <td>4.000000</td>\n",
       "      <td>2.000000</td>\n",
       "      <td>2.000000</td>\n",
       "      <td>1.000000</td>\n",
       "      <td>4.000000</td>\n",
       "      <td>1.000000</td>\n",
       "      <td>2.000000</td>\n",
       "    </tr>\n",
       "    <tr>\n",
       "      <th>75%</th>\n",
       "      <td>238857.000000</td>\n",
       "      <td>4.000000</td>\n",
       "      <td>3.000000</td>\n",
       "      <td>98472.000000</td>\n",
       "      <td>4.000000</td>\n",
       "      <td>5409.000000</td>\n",
       "      <td>39.000000</td>\n",
       "      <td>2.000000</td>\n",
       "      <td>5.000000</td>\n",
       "      <td>2.000000</td>\n",
       "      <td>2.000000</td>\n",
       "      <td>1.000000</td>\n",
       "      <td>5.000000</td>\n",
       "      <td>3.000000</td>\n",
       "      <td>3.000000</td>\n",
       "    </tr>\n",
       "    <tr>\n",
       "      <th>max</th>\n",
       "      <td>318438.000000</td>\n",
       "      <td>24.000000</td>\n",
       "      <td>4.000000</td>\n",
       "      <td>131624.000000</td>\n",
       "      <td>32.000000</td>\n",
       "      <td>11008.000000</td>\n",
       "      <td>200.000000</td>\n",
       "      <td>5.000000</td>\n",
       "      <td>5.000000</td>\n",
       "      <td>4.000000</td>\n",
       "      <td>2.000000</td>\n",
       "      <td>2.000000</td>\n",
       "      <td>9.000000</td>\n",
       "      <td>49.000000</td>\n",
       "      <td>10.000000</td>\n",
       "    </tr>\n",
       "  </tbody>\n",
       "</table>\n",
       "</div>"
      ],
      "text/plain": [
       "             case_id  Available Extra Rooms in Hospital      Bed Grade  \\\n",
       "count  318325.000000                      318325.000000  318325.000000   \n",
       "mean   159221.359369                           3.197509       2.625807   \n",
       "std     91932.122176                           1.168208       0.873146   \n",
       "min         1.000000                           0.000000       1.000000   \n",
       "25%     79601.000000                           2.000000       2.000000   \n",
       "50%    159222.000000                           3.000000       3.000000   \n",
       "75%    238857.000000                           4.000000       3.000000   \n",
       "max    318438.000000                          24.000000       4.000000   \n",
       "\n",
       "           patientid  Visitors with Patient  Admission_Deposit     n_day_stay  \\\n",
       "count  318325.000000          318325.000000      318325.000000  318325.000000   \n",
       "mean    65748.181962               3.284153        4880.857705      33.380752   \n",
       "std     37980.537188               1.764190        1086.848051      25.807159   \n",
       "min         1.000000               0.000000        1800.000000       0.000000   \n",
       "25%     32847.000000               2.000000        4186.000000      18.000000   \n",
       "50%     65726.000000               3.000000        4741.000000      27.000000   \n",
       "75%     98472.000000               4.000000        5409.000000      39.000000   \n",
       "max    131624.000000              32.000000       11008.000000     200.000000   \n",
       "\n",
       "       Ward_Type_code  Ward_Facility_Code_code  Department_code  \\\n",
       "count   318325.000000            318325.000000    318325.000000   \n",
       "mean         1.888658                 3.286314         1.943746   \n",
       "std          0.804732                 1.688042         0.561287   \n",
       "min          0.000000                 0.000000         0.000000   \n",
       "25%          1.000000                 2.000000         2.000000   \n",
       "50%          2.000000                 4.000000         2.000000   \n",
       "75%          2.000000                 5.000000         2.000000   \n",
       "max          5.000000                 5.000000         4.000000   \n",
       "\n",
       "       Severity_of_Illness_code  Type_of_Admission_code       Age_code  \\\n",
       "count             318325.000000           318325.000000  318325.000000   \n",
       "mean                   1.374180                0.782854       4.127841   \n",
       "std                    0.768308                0.689000       1.889657   \n",
       "min                    0.000000                0.000000       0.000000   \n",
       "25%                    1.000000                0.000000       3.000000   \n",
       "50%                    2.000000                1.000000       4.000000   \n",
       "75%                    2.000000                1.000000       5.000000   \n",
       "max                    2.000000                2.000000       9.000000   \n",
       "\n",
       "             n_visit      Stay_code  \n",
       "count  318325.000000  318325.000000  \n",
       "mean        2.033510       2.698425  \n",
       "std         2.275032       2.150118  \n",
       "min         0.000000       0.000000  \n",
       "25%         0.000000       1.000000  \n",
       "50%         1.000000       2.000000  \n",
       "75%         3.000000       3.000000  \n",
       "max        49.000000      10.000000  "
      ]
     },
     "execution_count": 9,
     "metadata": {},
     "output_type": "execute_result"
    }
   ],
   "source": [
    "data = pd.read_csv('data_patient_num.csv')\n",
    "data.dropna()\n",
    "y = data['Stay_code']\n",
    "data = data.drop(['Stay_code'], axis = 1)\n",
    "# data= data.apply(lambda x: (x - np.mean(x)) / (np.max(x) - np.min(x)))\n",
    "# data['output'] = 1\n",
    "data['Stay_code'] = y\n",
    "# data = data.drop(['n_day_stay'], axis=1)\n",
    "data.describe()"
   ]
  },
  {
   "cell_type": "code",
   "execution_count": 6,
   "metadata": {},
   "outputs": [
    {
     "name": "stdout",
     "output_type": "stream",
     "text": [
      "(318325, 12)\n"
     ]
    },
    {
     "data": {
      "text/html": [
       "<div>\n",
       "<style scoped>\n",
       "    .dataframe tbody tr th:only-of-type {\n",
       "        vertical-align: middle;\n",
       "    }\n",
       "\n",
       "    .dataframe tbody tr th {\n",
       "        vertical-align: top;\n",
       "    }\n",
       "\n",
       "    .dataframe thead th {\n",
       "        text-align: right;\n",
       "    }\n",
       "</style>\n",
       "<table border=\"1\" class=\"dataframe\">\n",
       "  <thead>\n",
       "    <tr style=\"text-align: right;\">\n",
       "      <th></th>\n",
       "      <th>Available Extra Rooms in Hospital</th>\n",
       "      <th>Bed Grade</th>\n",
       "      <th>Visitors with Patient</th>\n",
       "      <th>n_day_stay</th>\n",
       "      <th>Ward_Type_code</th>\n",
       "      <th>Ward_Facility_Code_code</th>\n",
       "      <th>Department_code</th>\n",
       "      <th>Severity_of_Illness_code</th>\n",
       "      <th>Type_of_Admission_code</th>\n",
       "      <th>Age_code</th>\n",
       "      <th>n_visit</th>\n",
       "      <th>Stay_code</th>\n",
       "    </tr>\n",
       "  </thead>\n",
       "  <tbody>\n",
       "    <tr>\n",
       "      <th>0</th>\n",
       "      <td>-0.008230</td>\n",
       "      <td>-0.208602</td>\n",
       "      <td>-0.04013</td>\n",
       "      <td>-0.121904</td>\n",
       "      <td>0.022268</td>\n",
       "      <td>0.342737</td>\n",
       "      <td>0.264063</td>\n",
       "      <td>-0.68709</td>\n",
       "      <td>-0.391427</td>\n",
       "      <td>0.096907</td>\n",
       "      <td>-0.041500</td>\n",
       "      <td>0</td>\n",
       "    </tr>\n",
       "    <tr>\n",
       "      <th>1</th>\n",
       "      <td>-0.049896</td>\n",
       "      <td>-0.208602</td>\n",
       "      <td>-0.04013</td>\n",
       "      <td>0.073096</td>\n",
       "      <td>0.222268</td>\n",
       "      <td>0.342737</td>\n",
       "      <td>0.264063</td>\n",
       "      <td>-0.68709</td>\n",
       "      <td>0.108573</td>\n",
       "      <td>0.096907</td>\n",
       "      <td>-0.021092</td>\n",
       "      <td>4</td>\n",
       "    </tr>\n",
       "    <tr>\n",
       "      <th>2</th>\n",
       "      <td>-0.049896</td>\n",
       "      <td>-0.208602</td>\n",
       "      <td>-0.04013</td>\n",
       "      <td>0.013096</td>\n",
       "      <td>0.222268</td>\n",
       "      <td>0.142737</td>\n",
       "      <td>-0.235937</td>\n",
       "      <td>-0.68709</td>\n",
       "      <td>0.108573</td>\n",
       "      <td>0.096907</td>\n",
       "      <td>-0.000684</td>\n",
       "      <td>3</td>\n",
       "    </tr>\n",
       "    <tr>\n",
       "      <th>3</th>\n",
       "      <td>-0.049896</td>\n",
       "      <td>-0.208602</td>\n",
       "      <td>-0.04013</td>\n",
       "      <td>0.078096</td>\n",
       "      <td>0.022268</td>\n",
       "      <td>-0.057263</td>\n",
       "      <td>0.264063</td>\n",
       "      <td>-0.68709</td>\n",
       "      <td>0.108573</td>\n",
       "      <td>0.096907</td>\n",
       "      <td>0.019724</td>\n",
       "      <td>4</td>\n",
       "    </tr>\n",
       "    <tr>\n",
       "      <th>4</th>\n",
       "      <td>-0.049896</td>\n",
       "      <td>-0.208602</td>\n",
       "      <td>-0.04013</td>\n",
       "      <td>0.038096</td>\n",
       "      <td>0.222268</td>\n",
       "      <td>-0.057263</td>\n",
       "      <td>0.264063</td>\n",
       "      <td>-0.68709</td>\n",
       "      <td>0.108573</td>\n",
       "      <td>0.096907</td>\n",
       "      <td>0.040132</td>\n",
       "      <td>4</td>\n",
       "    </tr>\n",
       "    <tr>\n",
       "      <th>...</th>\n",
       "      <td>...</td>\n",
       "      <td>...</td>\n",
       "      <td>...</td>\n",
       "      <td>...</td>\n",
       "      <td>...</td>\n",
       "      <td>...</td>\n",
       "      <td>...</td>\n",
       "      <td>...</td>\n",
       "      <td>...</td>\n",
       "      <td>...</td>\n",
       "      <td>...</td>\n",
       "      <td>...</td>\n",
       "    </tr>\n",
       "    <tr>\n",
       "      <th>318320</th>\n",
       "      <td>-0.008230</td>\n",
       "      <td>0.458064</td>\n",
       "      <td>-0.00888</td>\n",
       "      <td>-0.066904</td>\n",
       "      <td>-0.177732</td>\n",
       "      <td>0.342737</td>\n",
       "      <td>0.264063</td>\n",
       "      <td>0.31291</td>\n",
       "      <td>-0.391427</td>\n",
       "      <td>-0.014205</td>\n",
       "      <td>-0.041500</td>\n",
       "      <td>1</td>\n",
       "    </tr>\n",
       "    <tr>\n",
       "      <th>318321</th>\n",
       "      <td>-0.049896</td>\n",
       "      <td>0.458064</td>\n",
       "      <td>0.02237</td>\n",
       "      <td>0.008096</td>\n",
       "      <td>-0.177732</td>\n",
       "      <td>0.142737</td>\n",
       "      <td>-0.235937</td>\n",
       "      <td>0.31291</td>\n",
       "      <td>0.608573</td>\n",
       "      <td>0.430240</td>\n",
       "      <td>-0.041500</td>\n",
       "      <td>3</td>\n",
       "    </tr>\n",
       "    <tr>\n",
       "      <th>318322</th>\n",
       "      <td>-0.008230</td>\n",
       "      <td>0.458064</td>\n",
       "      <td>-0.00888</td>\n",
       "      <td>-0.096904</td>\n",
       "      <td>0.022268</td>\n",
       "      <td>0.342737</td>\n",
       "      <td>0.014063</td>\n",
       "      <td>-0.18709</td>\n",
       "      <td>-0.391427</td>\n",
       "      <td>0.319129</td>\n",
       "      <td>-0.041500</td>\n",
       "      <td>1</td>\n",
       "    </tr>\n",
       "    <tr>\n",
       "      <th>318323</th>\n",
       "      <td>-0.008230</td>\n",
       "      <td>0.124731</td>\n",
       "      <td>0.05362</td>\n",
       "      <td>-0.066904</td>\n",
       "      <td>-0.177732</td>\n",
       "      <td>-0.057263</td>\n",
       "      <td>-0.235937</td>\n",
       "      <td>-0.18709</td>\n",
       "      <td>0.108573</td>\n",
       "      <td>-0.347538</td>\n",
       "      <td>-0.041500</td>\n",
       "      <td>1</td>\n",
       "    </tr>\n",
       "    <tr>\n",
       "      <th>318324</th>\n",
       "      <td>0.075104</td>\n",
       "      <td>-0.208602</td>\n",
       "      <td>-0.04013</td>\n",
       "      <td>-0.116904</td>\n",
       "      <td>-0.177732</td>\n",
       "      <td>-0.257263</td>\n",
       "      <td>0.014063</td>\n",
       "      <td>-0.18709</td>\n",
       "      <td>-0.391427</td>\n",
       "      <td>-0.347538</td>\n",
       "      <td>-0.041500</td>\n",
       "      <td>0</td>\n",
       "    </tr>\n",
       "  </tbody>\n",
       "</table>\n",
       "<p>318325 rows × 12 columns</p>\n",
       "</div>"
      ],
      "text/plain": [
       "        Available Extra Rooms in Hospital  Bed Grade  Visitors with Patient  \\\n",
       "0                               -0.008230  -0.208602               -0.04013   \n",
       "1                               -0.049896  -0.208602               -0.04013   \n",
       "2                               -0.049896  -0.208602               -0.04013   \n",
       "3                               -0.049896  -0.208602               -0.04013   \n",
       "4                               -0.049896  -0.208602               -0.04013   \n",
       "...                                   ...        ...                    ...   \n",
       "318320                          -0.008230   0.458064               -0.00888   \n",
       "318321                          -0.049896   0.458064                0.02237   \n",
       "318322                          -0.008230   0.458064               -0.00888   \n",
       "318323                          -0.008230   0.124731                0.05362   \n",
       "318324                           0.075104  -0.208602               -0.04013   \n",
       "\n",
       "        n_day_stay  Ward_Type_code  Ward_Facility_Code_code  Department_code  \\\n",
       "0        -0.121904        0.022268                 0.342737         0.264063   \n",
       "1         0.073096        0.222268                 0.342737         0.264063   \n",
       "2         0.013096        0.222268                 0.142737        -0.235937   \n",
       "3         0.078096        0.022268                -0.057263         0.264063   \n",
       "4         0.038096        0.222268                -0.057263         0.264063   \n",
       "...            ...             ...                      ...              ...   \n",
       "318320   -0.066904       -0.177732                 0.342737         0.264063   \n",
       "318321    0.008096       -0.177732                 0.142737        -0.235937   \n",
       "318322   -0.096904        0.022268                 0.342737         0.014063   \n",
       "318323   -0.066904       -0.177732                -0.057263        -0.235937   \n",
       "318324   -0.116904       -0.177732                -0.257263         0.014063   \n",
       "\n",
       "        Severity_of_Illness_code  Type_of_Admission_code  Age_code   n_visit  \\\n",
       "0                       -0.68709               -0.391427  0.096907 -0.041500   \n",
       "1                       -0.68709                0.108573  0.096907 -0.021092   \n",
       "2                       -0.68709                0.108573  0.096907 -0.000684   \n",
       "3                       -0.68709                0.108573  0.096907  0.019724   \n",
       "4                       -0.68709                0.108573  0.096907  0.040132   \n",
       "...                          ...                     ...       ...       ...   \n",
       "318320                   0.31291               -0.391427 -0.014205 -0.041500   \n",
       "318321                   0.31291                0.608573  0.430240 -0.041500   \n",
       "318322                  -0.18709               -0.391427  0.319129 -0.041500   \n",
       "318323                  -0.18709                0.108573 -0.347538 -0.041500   \n",
       "318324                  -0.18709               -0.391427 -0.347538 -0.041500   \n",
       "\n",
       "        Stay_code  \n",
       "0               0  \n",
       "1               4  \n",
       "2               3  \n",
       "3               4  \n",
       "4               4  \n",
       "...           ...  \n",
       "318320          1  \n",
       "318321          3  \n",
       "318322          1  \n",
       "318323          1  \n",
       "318324          0  \n",
       "\n",
       "[318325 rows x 12 columns]"
      ]
     },
     "execution_count": 6,
     "metadata": {},
     "output_type": "execute_result"
    }
   ],
   "source": [
    "y = data['Stay_code']\n",
    "data_ml = data.drop(['case_id', 'patientid', 'Admission_Deposit'], axis = 1) \n",
    "# data_ml['Stay_code'] += 1\n",
    "print(data_ml.shape)\n",
    "# data_ml = normalize(data_ml)\n",
    "data_ml"
   ]
  },
  {
   "cell_type": "code",
   "execution_count": 6,
   "metadata": {},
   "outputs": [],
   "source": [
    "X_train, X_test = train_test_split(data_ml, test_size=0.3, random_state=1)"
   ]
  },
  {
   "cell_type": "markdown",
   "metadata": {},
   "source": [
    "## Cox's Model"
   ]
  },
  {
   "cell_type": "code",
   "execution_count": 7,
   "metadata": {},
   "outputs": [],
   "source": [
    "# cph = CoxPHFitter()\n",
    "# cph.fit(X_train, duration_col='Stay_code')"
   ]
  },
  {
   "cell_type": "code",
   "execution_count": 8,
   "metadata": {},
   "outputs": [],
   "source": [
    "# cph.print_summary()"
   ]
  },
  {
   "cell_type": "code",
   "execution_count": 9,
   "metadata": {},
   "outputs": [],
   "source": [
    "# cph.plot()"
   ]
  },
  {
   "cell_type": "code",
   "execution_count": 10,
   "metadata": {},
   "outputs": [],
   "source": [
    "# predict = cph.predict_median(X_test)"
   ]
  },
  {
   "cell_type": "code",
   "execution_count": 11,
   "metadata": {},
   "outputs": [],
   "source": [
    "# y_test"
   ]
  },
  {
   "cell_type": "code",
   "execution_count": 12,
   "metadata": {},
   "outputs": [],
   "source": [
    "# cph.score(X_train)"
   ]
  },
  {
   "cell_type": "code",
   "execution_count": 13,
   "metadata": {},
   "outputs": [],
   "source": [
    "# cph.plot_partial_effects_on_outcome('Stay_code', values=range(0,15, 3), cmap='coolwarm')"
   ]
  },
  {
   "cell_type": "code",
   "execution_count": 14,
   "metadata": {},
   "outputs": [],
   "source": [
    "# err = abs(X_test.Stay_code - predict)/(X_test.Stay_code + 1) * 100"
   ]
  },
  {
   "cell_type": "code",
   "execution_count": 15,
   "metadata": {},
   "outputs": [],
   "source": [
    "# err.mean()"
   ]
  },
  {
   "cell_type": "markdown",
   "metadata": {},
   "source": [
    "## RandomForest"
   ]
  },
  {
   "cell_type": "code",
   "execution_count": 16,
   "metadata": {},
   "outputs": [],
   "source": [
    "y_train = X_train['Stay_code']\n",
    "X_train = X_train.drop(['Stay_code'], axis = 1)\n",
    "y_test = X_test['Stay_code']\n",
    "X_test = X_test.drop(['Stay_code'], axis = 1)"
   ]
  },
  {
   "cell_type": "code",
   "execution_count": 17,
   "metadata": {},
   "outputs": [
    {
     "data": {
      "text/plain": [
       "RandomForestClassifier()"
      ]
     },
     "execution_count": 17,
     "metadata": {},
     "output_type": "execute_result"
    }
   ],
   "source": [
    "rf = RandomForestClassifier()\n",
    "rf.fit(X_train, y_train)"
   ]
  },
  {
   "cell_type": "code",
   "execution_count": 18,
   "metadata": {},
   "outputs": [
    {
     "data": {
      "text/plain": [
       "0.9962407589687742"
      ]
     },
     "execution_count": 18,
     "metadata": {},
     "output_type": "execute_result"
    }
   ],
   "source": [
    "rf.score(X_test, y_test)"
   ]
  },
  {
   "cell_type": "markdown",
   "metadata": {},
   "source": [
    "\n",
    "Score: **0.345**\n"
   ]
  },
  {
   "cell_type": "code",
   "execution_count": 19,
   "metadata": {},
   "outputs": [],
   "source": [
    "prediction_proba_RF = rf.predict_proba(X_test)\n",
    "prediction_RF = rf.predict(X_test)"
   ]
  },
  {
   "cell_type": "code",
   "execution_count": 20,
   "metadata": {},
   "outputs": [
    {
     "data": {
      "text/plain": [
       "<matplotlib.axes._subplots.AxesSubplot at 0x284a79a0508>"
      ]
     },
     "execution_count": 20,
     "metadata": {},
     "output_type": "execute_result"
    },
    {
     "data": {
      "image/png": "[encoded data removed]",
      "text/plain": [
       "<Figure size 432x288 with 1 Axes>"
      ]
     },
     "metadata": {
      "needs_background": "light"
     },
     "output_type": "display_data"
    }
   ],
   "source": [
    "importances = pd.DataFrame({'feature':X_train.columns,'importance':np.round(rf.feature_importances_,3)})\n",
    "importances = importances.sort_values('importance',ascending=False).set_index('feature')\n",
    "# print (importances)\n",
    "importances.plot.bar()"
   ]
  },
  {
   "cell_type": "markdown",
   "metadata": {},
   "source": [
    "## NN Model"
   ]
  },
  {
   "cell_type": "code",
   "execution_count": 21,
   "metadata": {},
   "outputs": [],
   "source": [
    "import tensorflow as tf"
   ]
  },
  {
   "cell_type": "code",
   "execution_count": 22,
   "metadata": {},
   "outputs": [],
   "source": [
    "model = tf.keras.Sequential([\n",
    "    tf.keras.layers.Dense(units=5, activation='relu', dtype='float64'),\n",
    "    tf.keras.layers.Dropout(0.2, dtype='float64'),\n",
    "    tf.keras.layers.Dense(units=3, activation='relu', dtype='float64'),\n",
    "    tf.keras.layers.Dense(12, activation='softmax', dtype='float64'),\n",
    "])\n",
    "model.compile(optimizer=tf.keras.optimizers.Adam(),\n",
    "              loss=tf.keras.losses.SparseCategoricalCrossentropy(from_logits=True),\n",
    "              metrics=['accuracy', 'mean_squared_error'])\n"
   ]
  },
  {
   "cell_type": "code",
   "execution_count": 23,
   "metadata": {},
   "outputs": [
    {
     "name": "stdout",
     "output_type": "stream",
     "text": [
      "Epoch 1/15\n",
      "5571/5571 [==============================] - 21s 4ms/step - loss: 2.2121 - accuracy: 0.4351 - mean_squared_error: 11.5072 - val_loss: 1.9821 - val_accuracy: 0.7524 - val_mean_squared_error: 11.4237\n",
      "Epoch 2/15\n",
      "5571/5571 [==============================] - 19s 4ms/step - loss: 1.9702 - accuracy: 0.6824 - mean_squared_error: 11.5302 - val_loss: 1.8694 - val_accuracy: 0.7837 - val_mean_squared_error: 11.4397\n",
      "Epoch 3/15\n",
      "5571/5571 [==============================] - 18s 3ms/step - loss: 1.9200 - accuracy: 0.7135 - mean_squared_error: 11.5374 - val_loss: 1.8479 - val_accuracy: 0.7909 - val_mean_squared_error: 11.4430\n",
      "Epoch 4/15\n",
      "5571/5571 [==============================] - 19s 3ms/step - loss: 1.9027 - accuracy: 0.7264 - mean_squared_error: 11.5396 - val_loss: 1.8391 - val_accuracy: 0.7946 - val_mean_squared_error: 11.4442\n",
      "Epoch 5/15\n",
      "5571/5571 [==============================] - 18s 3ms/step - loss: 1.8934 - accuracy: 0.7339 - mean_squared_error: 11.5406 - val_loss: 1.8341 - val_accuracy: 0.7951 - val_mean_squared_error: 11.4449\n",
      "Epoch 6/15\n",
      "5571/5571 [==============================] - 22s 4ms/step - loss: 1.8865 - accuracy: 0.7398 - mean_squared_error: 11.5413 - val_loss: 1.8330 - val_accuracy: 0.7916 - val_mean_squared_error: 11.4453\n",
      "Epoch 7/15\n",
      "5571/5571 [==============================] - 19s 3ms/step - loss: 1.8822 - accuracy: 0.7435 - mean_squared_error: 11.5417 - val_loss: 1.8301 - val_accuracy: 0.7963 - val_mean_squared_error: 11.4457\n",
      "Epoch 8/15\n",
      "5571/5571 [==============================] - 22s 4ms/step - loss: 1.8782 - accuracy: 0.7472 - mean_squared_error: 11.5421 - val_loss: 1.8266 - val_accuracy: 0.7990 - val_mean_squared_error: 11.4460\n",
      "Epoch 9/15\n",
      "5571/5571 [==============================] - 21s 4ms/step - loss: 1.8760 - accuracy: 0.7490 - mean_squared_error: 11.5423 - val_loss: 1.8252 - val_accuracy: 0.8002 - val_mean_squared_error: 11.4461\n",
      "Epoch 10/15\n",
      "5571/5571 [==============================] - 21s 4ms/step - loss: 1.8726 - accuracy: 0.7525 - mean_squared_error: 11.5425 - val_loss: 1.8232 - val_accuracy: 0.8002 - val_mean_squared_error: 11.4464\n",
      "Epoch 11/15\n",
      "5571/5571 [==============================] - 21s 4ms/step - loss: 1.8688 - accuracy: 0.7563 - mean_squared_error: 11.5429 - val_loss: 1.8229 - val_accuracy: 0.8002 - val_mean_squared_error: 11.4465\n",
      "Epoch 12/15\n",
      "  54/5571 [..............................] - ETA: 21s - loss: 1.8704 - accuracy: 0.7535 - mean_squared_error: 11.6409"
     ]
    },
    {
     "ename": "KeyboardInterrupt",
     "evalue": "",
     "output_type": "error",
     "traceback": [
      "\u001b[1;31m---------------------------------------------------------------------------\u001b[0m",
      "\u001b[1;31mKeyboardInterrupt\u001b[0m                         Traceback (most recent call last)",
      "\u001b[1;32m<ipython-input-23-44929b58dfab>\u001b[0m in \u001b[0;36m<module>\u001b[1;34m\u001b[0m\n\u001b[1;32m----> 1\u001b[1;33m \u001b[0mhistory\u001b[0m \u001b[1;33m=\u001b[0m \u001b[0mmodel\u001b[0m\u001b[1;33m.\u001b[0m\u001b[0mfit\u001b[0m\u001b[1;33m(\u001b[0m\u001b[0mX_train\u001b[0m\u001b[1;33m,\u001b[0m \u001b[0my_train\u001b[0m\u001b[1;33m,\u001b[0m \u001b[0mepochs\u001b[0m\u001b[1;33m=\u001b[0m\u001b[1;36m15\u001b[0m\u001b[1;33m,\u001b[0m \u001b[0mvalidation_split\u001b[0m\u001b[1;33m=\u001b[0m\u001b[1;36m0.2\u001b[0m\u001b[1;33m)\u001b[0m\u001b[1;33m\u001b[0m\u001b[1;33m\u001b[0m\u001b[0m\n\u001b[0m",
      "\u001b[1;32mc:\\users\\pablo\\appdata\\local\\programs\\python\\python37\\lib\\site-packages\\tensorflow\\python\\keras\\engine\\training.py\u001b[0m in \u001b[0;36m_method_wrapper\u001b[1;34m(self, *args, **kwargs)\u001b[0m\n\u001b[0;32m    106\u001b[0m   \u001b[1;32mdef\u001b[0m \u001b[0m_method_wrapper\u001b[0m\u001b[1;33m(\u001b[0m\u001b[0mself\u001b[0m\u001b[1;33m,\u001b[0m \u001b[1;33m*\u001b[0m\u001b[0margs\u001b[0m\u001b[1;33m,\u001b[0m \u001b[1;33m**\u001b[0m\u001b[0mkwargs\u001b[0m\u001b[1;33m)\u001b[0m\u001b[1;33m:\u001b[0m\u001b[1;33m\u001b[0m\u001b[1;33m\u001b[0m\u001b[0m\n\u001b[0;32m    107\u001b[0m     \u001b[1;32mif\u001b[0m \u001b[1;32mnot\u001b[0m \u001b[0mself\u001b[0m\u001b[1;33m.\u001b[0m\u001b[0m_in_multi_worker_mode\u001b[0m\u001b[1;33m(\u001b[0m\u001b[1;33m)\u001b[0m\u001b[1;33m:\u001b[0m  \u001b[1;31m# pylint: disable=protected-access\u001b[0m\u001b[1;33m\u001b[0m\u001b[1;33m\u001b[0m\u001b[0m\n\u001b[1;32m--> 108\u001b[1;33m       \u001b[1;32mreturn\u001b[0m \u001b[0mmethod\u001b[0m\u001b[1;33m(\u001b[0m\u001b[0mself\u001b[0m\u001b[1;33m,\u001b[0m \u001b[1;33m*\u001b[0m\u001b[0margs\u001b[0m\u001b[1;33m,\u001b[0m \u001b[1;33m**\u001b[0m\u001b[0mkwargs\u001b[0m\u001b[1;33m)\u001b[0m\u001b[1;33m\u001b[0m\u001b[1;33m\u001b[0m\u001b[0m\n\u001b[0m\u001b[0;32m    109\u001b[0m \u001b[1;33m\u001b[0m\u001b[0m\n\u001b[0;32m    110\u001b[0m     \u001b[1;31m# Running inside `run_distribute_coordinator` already.\u001b[0m\u001b[1;33m\u001b[0m\u001b[1;33m\u001b[0m\u001b[1;33m\u001b[0m\u001b[0m\n",
      "\u001b[1;32mc:\\users\\pablo\\appdata\\local\\programs\\python\\python37\\lib\\site-packages\\tensorflow\\python\\keras\\engine\\training.py\u001b[0m in \u001b[0;36mfit\u001b[1;34m(self, x, y, batch_size, epochs, verbose, callbacks, validation_split, validation_data, shuffle, class_weight, sample_weight, initial_epoch, steps_per_epoch, validation_steps, validation_batch_size, validation_freq, max_queue_size, workers, use_multiprocessing)\u001b[0m\n\u001b[0;32m   1096\u001b[0m                 batch_size=batch_size):\n\u001b[0;32m   1097\u001b[0m               \u001b[0mcallbacks\u001b[0m\u001b[1;33m.\u001b[0m\u001b[0mon_train_batch_begin\u001b[0m\u001b[1;33m(\u001b[0m\u001b[0mstep\u001b[0m\u001b[1;33m)\u001b[0m\u001b[1;33m\u001b[0m\u001b[1;33m\u001b[0m\u001b[0m\n\u001b[1;32m-> 1098\u001b[1;33m               \u001b[0mtmp_logs\u001b[0m \u001b[1;33m=\u001b[0m \u001b[0mtrain_function\u001b[0m\u001b[1;33m(\u001b[0m\u001b[0miterator\u001b[0m\u001b[1;33m)\u001b[0m\u001b[1;33m\u001b[0m\u001b[1;33m\u001b[0m\u001b[0m\n\u001b[0m\u001b[0;32m   1099\u001b[0m               \u001b[1;32mif\u001b[0m \u001b[0mdata_handler\u001b[0m\u001b[1;33m.\u001b[0m\u001b[0mshould_sync\u001b[0m\u001b[1;33m:\u001b[0m\u001b[1;33m\u001b[0m\u001b[1;33m\u001b[0m\u001b[0m\n\u001b[0;32m   1100\u001b[0m                 \u001b[0mcontext\u001b[0m\u001b[1;33m.\u001b[0m\u001b[0masync_wait\u001b[0m\u001b[1;33m(\u001b[0m\u001b[1;33m)\u001b[0m\u001b[1;33m\u001b[0m\u001b[1;33m\u001b[0m\u001b[0m\n",
      "\u001b[1;32mc:\\users\\pablo\\appdata\\local\\programs\\python\\python37\\lib\\site-packages\\tensorflow\\python\\eager\\def_function.py\u001b[0m in \u001b[0;36m__call__\u001b[1;34m(self, *args, **kwds)\u001b[0m\n\u001b[0;32m    778\u001b[0m       \u001b[1;32melse\u001b[0m\u001b[1;33m:\u001b[0m\u001b[1;33m\u001b[0m\u001b[1;33m\u001b[0m\u001b[0m\n\u001b[0;32m    779\u001b[0m         \u001b[0mcompiler\u001b[0m \u001b[1;33m=\u001b[0m \u001b[1;34m\"nonXla\"\u001b[0m\u001b[1;33m\u001b[0m\u001b[1;33m\u001b[0m\u001b[0m\n\u001b[1;32m--> 780\u001b[1;33m         \u001b[0mresult\u001b[0m \u001b[1;33m=\u001b[0m \u001b[0mself\u001b[0m\u001b[1;33m.\u001b[0m\u001b[0m_call\u001b[0m\u001b[1;33m(\u001b[0m\u001b[1;33m*\u001b[0m\u001b[0margs\u001b[0m\u001b[1;33m,\u001b[0m \u001b[1;33m**\u001b[0m\u001b[0mkwds\u001b[0m\u001b[1;33m)\u001b[0m\u001b[1;33m\u001b[0m\u001b[1;33m\u001b[0m\u001b[0m\n\u001b[0m\u001b[0;32m    781\u001b[0m \u001b[1;33m\u001b[0m\u001b[0m\n\u001b[0;32m    782\u001b[0m       \u001b[0mnew_tracing_count\u001b[0m \u001b[1;33m=\u001b[0m \u001b[0mself\u001b[0m\u001b[1;33m.\u001b[0m\u001b[0m_get_tracing_count\u001b[0m\u001b[1;33m(\u001b[0m\u001b[1;33m)\u001b[0m\u001b[1;33m\u001b[0m\u001b[1;33m\u001b[0m\u001b[0m\n",
      "\u001b[1;32mc:\\users\\pablo\\appdata\\local\\programs\\python\\python37\\lib\\site-packages\\tensorflow\\python\\eager\\def_function.py\u001b[0m in \u001b[0;36m_call\u001b[1;34m(self, *args, **kwds)\u001b[0m\n\u001b[0;32m    805\u001b[0m       \u001b[1;31m# In this case we have created variables on the first call, so we run the\u001b[0m\u001b[1;33m\u001b[0m\u001b[1;33m\u001b[0m\u001b[1;33m\u001b[0m\u001b[0m\n\u001b[0;32m    806\u001b[0m       \u001b[1;31m# defunned version which is guaranteed to never create variables.\u001b[0m\u001b[1;33m\u001b[0m\u001b[1;33m\u001b[0m\u001b[1;33m\u001b[0m\u001b[0m\n\u001b[1;32m--> 807\u001b[1;33m       \u001b[1;32mreturn\u001b[0m \u001b[0mself\u001b[0m\u001b[1;33m.\u001b[0m\u001b[0m_stateless_fn\u001b[0m\u001b[1;33m(\u001b[0m\u001b[1;33m*\u001b[0m\u001b[0margs\u001b[0m\u001b[1;33m,\u001b[0m \u001b[1;33m**\u001b[0m\u001b[0mkwds\u001b[0m\u001b[1;33m)\u001b[0m  \u001b[1;31m# pylint: disable=not-callable\u001b[0m\u001b[1;33m\u001b[0m\u001b[1;33m\u001b[0m\u001b[0m\n\u001b[0m\u001b[0;32m    808\u001b[0m     \u001b[1;32melif\u001b[0m \u001b[0mself\u001b[0m\u001b[1;33m.\u001b[0m\u001b[0m_stateful_fn\u001b[0m \u001b[1;32mis\u001b[0m \u001b[1;32mnot\u001b[0m \u001b[1;32mNone\u001b[0m\u001b[1;33m:\u001b[0m\u001b[1;33m\u001b[0m\u001b[1;33m\u001b[0m\u001b[0m\n\u001b[0;32m    809\u001b[0m       \u001b[1;31m# Release the lock early so that multiple threads can perform the call\u001b[0m\u001b[1;33m\u001b[0m\u001b[1;33m\u001b[0m\u001b[1;33m\u001b[0m\u001b[0m\n",
      "\u001b[1;32mc:\\users\\pablo\\appdata\\local\\programs\\python\\python37\\lib\\site-packages\\tensorflow\\python\\eager\\function.py\u001b[0m in \u001b[0;36m__call__\u001b[1;34m(self, *args, **kwargs)\u001b[0m\n\u001b[0;32m   2827\u001b[0m     \u001b[1;32mwith\u001b[0m \u001b[0mself\u001b[0m\u001b[1;33m.\u001b[0m\u001b[0m_lock\u001b[0m\u001b[1;33m:\u001b[0m\u001b[1;33m\u001b[0m\u001b[1;33m\u001b[0m\u001b[0m\n\u001b[0;32m   2828\u001b[0m       \u001b[0mgraph_function\u001b[0m\u001b[1;33m,\u001b[0m \u001b[0margs\u001b[0m\u001b[1;33m,\u001b[0m \u001b[0mkwargs\u001b[0m \u001b[1;33m=\u001b[0m \u001b[0mself\u001b[0m\u001b[1;33m.\u001b[0m\u001b[0m_maybe_define_function\u001b[0m\u001b[1;33m(\u001b[0m\u001b[0margs\u001b[0m\u001b[1;33m,\u001b[0m \u001b[0mkwargs\u001b[0m\u001b[1;33m)\u001b[0m\u001b[1;33m\u001b[0m\u001b[1;33m\u001b[0m\u001b[0m\n\u001b[1;32m-> 2829\u001b[1;33m     \u001b[1;32mreturn\u001b[0m \u001b[0mgraph_function\u001b[0m\u001b[1;33m.\u001b[0m\u001b[0m_filtered_call\u001b[0m\u001b[1;33m(\u001b[0m\u001b[0margs\u001b[0m\u001b[1;33m,\u001b[0m \u001b[0mkwargs\u001b[0m\u001b[1;33m)\u001b[0m  \u001b[1;31m# pylint: disable=protected-access\u001b[0m\u001b[1;33m\u001b[0m\u001b[1;33m\u001b[0m\u001b[0m\n\u001b[0m\u001b[0;32m   2830\u001b[0m \u001b[1;33m\u001b[0m\u001b[0m\n\u001b[0;32m   2831\u001b[0m   \u001b[1;33m@\u001b[0m\u001b[0mproperty\u001b[0m\u001b[1;33m\u001b[0m\u001b[1;33m\u001b[0m\u001b[0m\n",
      "\u001b[1;32mc:\\users\\pablo\\appdata\\local\\programs\\python\\python37\\lib\\site-packages\\tensorflow\\python\\eager\\function.py\u001b[0m in \u001b[0;36m_filtered_call\u001b[1;34m(self, args, kwargs, cancellation_manager)\u001b[0m\n\u001b[0;32m   1846\u001b[0m                            resource_variable_ops.BaseResourceVariable))],\n\u001b[0;32m   1847\u001b[0m         \u001b[0mcaptured_inputs\u001b[0m\u001b[1;33m=\u001b[0m\u001b[0mself\u001b[0m\u001b[1;33m.\u001b[0m\u001b[0mcaptured_inputs\u001b[0m\u001b[1;33m,\u001b[0m\u001b[1;33m\u001b[0m\u001b[1;33m\u001b[0m\u001b[0m\n\u001b[1;32m-> 1848\u001b[1;33m         cancellation_manager=cancellation_manager)\n\u001b[0m\u001b[0;32m   1849\u001b[0m \u001b[1;33m\u001b[0m\u001b[0m\n\u001b[0;32m   1850\u001b[0m   \u001b[1;32mdef\u001b[0m \u001b[0m_call_flat\u001b[0m\u001b[1;33m(\u001b[0m\u001b[0mself\u001b[0m\u001b[1;33m,\u001b[0m \u001b[0margs\u001b[0m\u001b[1;33m,\u001b[0m \u001b[0mcaptured_inputs\u001b[0m\u001b[1;33m,\u001b[0m \u001b[0mcancellation_manager\u001b[0m\u001b[1;33m=\u001b[0m\u001b[1;32mNone\u001b[0m\u001b[1;33m)\u001b[0m\u001b[1;33m:\u001b[0m\u001b[1;33m\u001b[0m\u001b[1;33m\u001b[0m\u001b[0m\n",
      "\u001b[1;32mc:\\users\\pablo\\appdata\\local\\programs\\python\\python37\\lib\\site-packages\\tensorflow\\python\\eager\\function.py\u001b[0m in \u001b[0;36m_call_flat\u001b[1;34m(self, args, captured_inputs, cancellation_manager)\u001b[0m\n\u001b[0;32m   1922\u001b[0m       \u001b[1;31m# No tape is watching; skip to running the function.\u001b[0m\u001b[1;33m\u001b[0m\u001b[1;33m\u001b[0m\u001b[1;33m\u001b[0m\u001b[0m\n\u001b[0;32m   1923\u001b[0m       return self._build_call_outputs(self._inference_function.call(\n\u001b[1;32m-> 1924\u001b[1;33m           ctx, args, cancellation_manager=cancellation_manager))\n\u001b[0m\u001b[0;32m   1925\u001b[0m     forward_backward = self._select_forward_and_backward_functions(\n\u001b[0;32m   1926\u001b[0m         \u001b[0margs\u001b[0m\u001b[1;33m,\u001b[0m\u001b[1;33m\u001b[0m\u001b[1;33m\u001b[0m\u001b[0m\n",
      "\u001b[1;32mc:\\users\\pablo\\appdata\\local\\programs\\python\\python37\\lib\\site-packages\\tensorflow\\python\\eager\\function.py\u001b[0m in \u001b[0;36mcall\u001b[1;34m(self, ctx, args, cancellation_manager)\u001b[0m\n\u001b[0;32m    548\u001b[0m               \u001b[0minputs\u001b[0m\u001b[1;33m=\u001b[0m\u001b[0margs\u001b[0m\u001b[1;33m,\u001b[0m\u001b[1;33m\u001b[0m\u001b[1;33m\u001b[0m\u001b[0m\n\u001b[0;32m    549\u001b[0m               \u001b[0mattrs\u001b[0m\u001b[1;33m=\u001b[0m\u001b[0mattrs\u001b[0m\u001b[1;33m,\u001b[0m\u001b[1;33m\u001b[0m\u001b[1;33m\u001b[0m\u001b[0m\n\u001b[1;32m--> 550\u001b[1;33m               ctx=ctx)\n\u001b[0m\u001b[0;32m    551\u001b[0m         \u001b[1;32melse\u001b[0m\u001b[1;33m:\u001b[0m\u001b[1;33m\u001b[0m\u001b[1;33m\u001b[0m\u001b[0m\n\u001b[0;32m    552\u001b[0m           outputs = execute.execute_with_cancellation(\n",
      "\u001b[1;32mc:\\users\\pablo\\appdata\\local\\programs\\python\\python37\\lib\\site-packages\\tensorflow\\python\\eager\\execute.py\u001b[0m in \u001b[0;36mquick_execute\u001b[1;34m(op_name, num_outputs, inputs, attrs, ctx, name)\u001b[0m\n\u001b[0;32m     58\u001b[0m     \u001b[0mctx\u001b[0m\u001b[1;33m.\u001b[0m\u001b[0mensure_initialized\u001b[0m\u001b[1;33m(\u001b[0m\u001b[1;33m)\u001b[0m\u001b[1;33m\u001b[0m\u001b[1;33m\u001b[0m\u001b[0m\n\u001b[0;32m     59\u001b[0m     tensors = pywrap_tfe.TFE_Py_Execute(ctx._handle, device_name, op_name,\n\u001b[1;32m---> 60\u001b[1;33m                                         inputs, attrs, num_outputs)\n\u001b[0m\u001b[0;32m     61\u001b[0m   \u001b[1;32mexcept\u001b[0m \u001b[0mcore\u001b[0m\u001b[1;33m.\u001b[0m\u001b[0m_NotOkStatusException\u001b[0m \u001b[1;32mas\u001b[0m \u001b[0me\u001b[0m\u001b[1;33m:\u001b[0m\u001b[1;33m\u001b[0m\u001b[1;33m\u001b[0m\u001b[0m\n\u001b[0;32m     62\u001b[0m     \u001b[1;32mif\u001b[0m \u001b[0mname\u001b[0m \u001b[1;32mis\u001b[0m \u001b[1;32mnot\u001b[0m \u001b[1;32mNone\u001b[0m\u001b[1;33m:\u001b[0m\u001b[1;33m\u001b[0m\u001b[1;33m\u001b[0m\u001b[0m\n",
      "\u001b[1;31mKeyboardInterrupt\u001b[0m: "
     ]
    }
   ],
   "source": [
    "history = model.fit(X_train, y_train, epochs=15, validation_split=0.2)"
   ]
  },
  {
   "cell_type": "code",
   "execution_count": null,
   "metadata": {},
   "outputs": [],
   "source": [
    "# Plot history: MAE\n",
    "plt.plot(history.history['accuracy'], label='MAE (training data)')\n",
    "plt.plot(history.history['val_accuracy'], label='MAE (validation data)')\n",
    "plt.title('MAE for Chennai Reservoir Levels')\n",
    "plt.ylabel('MAE value')\n",
    "plt.xlabel('No. epoch')\n",
    "plt.legend(loc=\"upper left\")\n",
    "plt.show()"
   ]
  },
  {
   "cell_type": "markdown",
   "metadata": {},
   "source": [
    "**Score**: 0.3829"
   ]
  },
  {
   "cell_type": "code",
   "execution_count": null,
   "metadata": {},
   "outputs": [],
   "source": [
    "prediction_proba_NN = model.predict(X_test)\n",
    "prediction_NN = prediction_NN.argmax(axis=-1)"
   ]
  },
  {
   "cell_type": "markdown",
   "metadata": {},
   "source": [
    "## LogisticRegression"
   ]
  },
  {
   "cell_type": "code",
   "execution_count": null,
   "metadata": {},
   "outputs": [],
   "source": [
    "lr = LogisticRegression(max_iter=300, multi_class='multinomial').fit(X_train, y_train)"
   ]
  },
  {
   "cell_type": "code",
   "execution_count": null,
   "metadata": {},
   "outputs": [],
   "source": [
    "prediction_proba_LR = lr.predict_proba(X_test)\n",
    "prediction_LR = lr.predict(X_test)"
   ]
  },
  {
   "cell_type": "code",
   "execution_count": null,
   "metadata": {},
   "outputs": [],
   "source": [
    "lr.score(X_test, y_test)"
   ]
  },
  {
   "cell_type": "markdown",
   "metadata": {},
   "source": [
    "\n",
    "Score: **0.374**"
   ]
  },
  {
   "cell_type": "markdown",
   "metadata": {},
   "source": [
    "### ROC AUC"
   ]
  },
  {
   "cell_type": "code",
   "execution_count": null,
   "metadata": {},
   "outputs": [],
   "source": [
    "ROC_AUC(y_test, prediction_proba_RF, prediction_proba_NN, prediction_proba_LR, categories_code['Stay'])"
   ]
  },
  {
   "cell_type": "markdown",
   "metadata": {},
   "source": [
    "Moyenne de AUC score:\n",
    "\n",
    "**RF**: 0.715 \\\n",
    "**NN**: 0.668 \\\n",
    "**LR**: 0.738\n",
    "\n",
    "On decide de prendre LogisticRegression comme modele"
   ]
  },
  {
   "cell_type": "code",
   "execution_count": null,
   "metadata": {},
   "outputs": [],
   "source": [
    "tp = np.sum(np.logical_and(prediction_RF == 1, y_test == 1))\n",
    "tn = np.sum(np.logical_and(prediction_RF != 1, y_test != 1))\n",
    "fp = np.sum(np.logical_and(prediction_RF == 1, y_test != 1))\n",
    "fn = np.sum(np.logical_and(prediction_RF != 1, y_test == 1))\n",
    "print(tp, tn, fp, fn, tp+tn+fp+fn)"
   ]
  },
  {
   "cell_type": "code",
   "execution_count": null,
   "metadata": {},
   "outputs": [],
   "source": [
    "def bilan(pred, y_test):\n",
    "    precision_m = 0\n",
    "    recall_m = 0\n",
    "    specifity_m = 0\n",
    "    sensitivity_m = 0\n",
    "    for i in range(0, 11):\n",
    "        tp = np.sum(np.logical_and(pred == i, y_test == i))\n",
    "        tn = np.sum(np.logical_and(pred != i, y_test != i))\n",
    "        fp = np.sum(np.logical_and(pred == i, y_test != i))\n",
    "        fn = np.sum(np.logical_and(pred != i, y_test == i))\n",
    "        \n",
    "        if ((tp + fp) == 0):\n",
    "            precision = 0\n",
    "        else:\n",
    "            precision   = tp / (tp + fp) \n",
    "\n",
    "        recall      = tp / (tp + fn) * 100\n",
    "        specifity   = tn / (tn + fp) * 100\n",
    "        sensitivity = tp / (tp + fn) * 100\n",
    "        \n",
    "        \n",
    "        \n",
    "        precision_m += precision\n",
    "        recall_m += recall\n",
    "        specifity_m += specifity\n",
    "        sensitivity_m += sensitivity\n",
    "        print(f'Precision: {precision_m:0.2f}% Recall: {recall_m:.2f}% Specifity: {specifity_m:.2f}% Sensitivity: {sensitivity:.2f}%')"
   ]
  },
  {
   "cell_type": "code",
   "execution_count": null,
   "metadata": {},
   "outputs": [],
   "source": [
    "print('RandomForest:')\n",
    "bilan(prediction_RF, y_test)\n",
    "print('\\nNeuralNetwork')\n",
    "bilan(prediction_NN, y_test)\n",
    "print('\\nLogisticRegression')\n",
    "bilan(prediction_LR, y_test)"
   ]
  },
  {
   "cell_type": "code",
   "execution_count": null,
   "metadata": {},
   "outputs": [],
   "source": [
    "# On le garde avec pickle dans model.pkl\n",
    "with open('model.pkl', 'wb') as file:\n",
    "    pickle.dump(lr, file)"
   ]
  },
  {
   "cell_type": "code",
   "execution_count": null,
   "metadata": {},
   "outputs": [],
   "source": []
  }
 ],
 "metadata": {
  "kernelspec": {
   "display_name": "Python 3",
   "language": "python",
   "name": "python3"
  },
  "language_info": {
   "codemirror_mode": {
    "name": "ipython",
    "version": 3
   },
   "file_extension": ".py",
   "mimetype": "text/x-python",
   "name": "python",
   "nbconvert_exporter": "python",
   "pygments_lexer": "ipython3",
   "version": "3.7.7"
  }
 },
 "nbformat": 4,
 "nbformat_minor": 4
}
