{
 "cells": [
  {
   "cell_type": "code",
   "execution_count": 5,
   "metadata": {},
   "outputs": [],
   "source": [
    "import pandas as pd\n",
    "import numpy as np"
   ]
  },
  {
   "cell_type": "code",
   "execution_count": 100,
   "metadata": {},
   "outputs": [],
   "source": [
    "data = pd.read_csv('data_qlearning.csv')\n",
    "# data = data.drop(['case_id', 'Unnamed: 0'], axis=1)\n",
    "# data['Bed_assigned'] = -1\n",
    "# data = data[['Available Extra Rooms in Hospital', 'Bed Grade', 'patientid',\n",
    "#        'Visitors with Patient', 'Admission_Deposit', 'n_day_stay',\n",
    "#        'Ward_Type_code', 'Ward_Facility_Code_code', 'Department_code',\n",
    "#        'Severity_of_Illness_code', 'Type_of_Admission_code', 'Age_code',\n",
    "#        'n_visit', 'Bed_assigned', 'Stay_code']]\n",
    "data = data.drop('Unnamed: 0', axis=1)"
   ]
  },
  {
   "cell_type": "code",
   "execution_count": 101,
   "metadata": {},
   "outputs": [],
   "source": [
    "d = data.sample(3).to_numpy()\n",
    "d[0][13] = 1\n",
    "d[1][13] = 2\n",
    "d[2][13] = 3\n",
    "d = np.append(d, np.zeros(15)).reshape(4,15)\n",
    "d = np.append(d, np.zeros(15)).reshape(5,15)"
   ]
  },
  {
   "cell_type": "code",
   "execution_count": 104,
   "metadata": {},
   "outputs": [
    {
     "name": "stdout",
     "output_type": "stream",
     "text": [
      "1.0\n",
      "2.0\n",
      "3.0\n",
      "0.0\n",
      "0.0\n"
     ]
    }
   ],
   "source": [
    "for i in d[:,13]"
   ]
  },
  {
   "cell_type": "code",
   "execution_count": 88,
   "metadata": {},
   "outputs": [],
   "source": [
    "beds = [0, 0, 0, 2, 2]"
   ]
  },
  {
   "cell_type": "code",
   "execution_count": 90,
   "metadata": {},
   "outputs": [
    {
     "data": {
      "text/plain": [
       "True"
      ]
     },
     "execution_count": 90,
     "metadata": {},
     "output_type": "execute_result"
    }
   ],
   "source": [
    "cama = 2\n",
    "(beds[cama] == 0)"
   ]
  },
  {
   "cell_type": "code",
   "execution_count": null,
   "metadata": {},
   "outputs": [],
   "source": []
  }
 ],
 "metadata": {
  "kernelspec": {
   "display_name": "Python 3",
   "language": "python",
   "name": "python3"
  },
  "language_info": {
   "codemirror_mode": {
    "name": "ipython",
    "version": 3
   },
   "file_extension": ".py",
   "mimetype": "text/x-python",
   "name": "python",
   "nbconvert_exporter": "python",
   "pygments_lexer": "ipython3",
   "version": "3.7.7"
  }
 },
 "nbformat": 4,
 "nbformat_minor": 4
}
